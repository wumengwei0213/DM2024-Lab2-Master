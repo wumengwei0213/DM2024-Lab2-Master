{
 "cells": [
  {
   "cell_type": "markdown",
   "id": "0f4c1a97",
   "metadata": {
    "papermill": {
     "duration": 0.006672,
     "end_time": "2024-12-04T15:54:27.323437",
     "exception": false,
     "start_time": "2024-12-04T15:54:27.316765",
     "status": "completed"
    },
    "tags": []
   },
   "source": [
    "# Import Library"
   ]
  },
  {
   "cell_type": "code",
   "execution_count": 1,
   "id": "69c1d44f",
   "metadata": {
    "_cell_guid": "3a1d97ea-2d1c-4398-8ad8-2396a999f003",
    "_uuid": "add12f9f-a65d-45b3-9c56-de23e031498c",
    "execution": {
     "iopub.execute_input": "2024-12-04T15:54:27.339006Z",
     "iopub.status.busy": "2024-12-04T15:54:27.338658Z",
     "iopub.status.idle": "2024-12-04T15:54:31.901957Z",
     "shell.execute_reply": "2024-12-04T15:54:31.900956Z"
    },
    "papermill": {
     "duration": 4.573173,
     "end_time": "2024-12-04T15:54:31.904440",
     "exception": false,
     "start_time": "2024-12-04T15:54:27.331267",
     "status": "completed"
    },
    "tags": []
   },
   "outputs": [],
   "source": [
    "import json\n",
    "import pandas as pd\n",
    "import numpy as np\n",
    "import nltk\n",
    "import matplotlib.pyplot as plt\n",
    "from collections import Counter\n",
    "\n",
    "from sklearn.feature_extraction.text import TfidfVectorizer\n",
    "from sklearn.model_selection import train_test_split\n",
    "from sklearn.preprocessing import LabelEncoder\n",
    "from sklearn.linear_model import LogisticRegression\n",
    "from sklearn.ensemble import RandomForestClassifier\n",
    "from sklearn.metrics import classification_report"
   ]
  },
  {
   "cell_type": "markdown",
   "id": "6b99cd63",
   "metadata": {
    "papermill": {
     "duration": 0.006707,
     "end_time": "2024-12-04T15:54:31.918755",
     "exception": false,
     "start_time": "2024-12-04T15:54:31.912048",
     "status": "completed"
    },
    "tags": []
   },
   "source": [
    "# Load Data"
   ]
  },
  {
   "cell_type": "code",
   "execution_count": 2,
   "id": "c93e7f07",
   "metadata": {
    "_cell_guid": "24d63e07-cf6f-4ed3-8dc6-be6ed9ed867f",
    "_uuid": "adb5a68b-d001-49f5-ba19-ebf2ca7d7114",
    "collapsed": false,
    "execution": {
     "iopub.execute_input": "2024-12-04T15:54:31.933143Z",
     "iopub.status.busy": "2024-12-04T15:54:31.932230Z",
     "iopub.status.idle": "2024-12-04T15:55:03.538963Z",
     "shell.execute_reply": "2024-12-04T15:55:03.538203Z"
    },
    "jupyter": {
     "outputs_hidden": false
    },
    "papermill": {
     "duration": 31.616303,
     "end_time": "2024-12-04T15:55:03.541413",
     "exception": false,
     "start_time": "2024-12-04T15:54:31.925110",
     "status": "completed"
    },
    "tags": []
   },
   "outputs": [],
   "source": [
    "# Read data\n",
    "data = []\n",
    "with open('/kaggle/input/dm-2024-isa-5810-lab-2-homework/tweets_DM.json', 'r') as f:\n",
    "    for line in f:\n",
    "        data.append(json.loads(line))\n",
    " \n",
    "f.close()\n",
    "emotion = pd.read_csv('/kaggle/input/dm-2024-isa-5810-lab-2-homework/emotion.csv')\n",
    "data_id = pd.read_csv('/kaggle/input/dm-2024-isa-5810-lab-2-homework/data_identification.csv')"
   ]
  },
  {
   "cell_type": "markdown",
   "id": "ba31a211",
   "metadata": {
    "papermill": {
     "duration": 0.005743,
     "end_time": "2024-12-04T15:55:03.553517",
     "exception": false,
     "start_time": "2024-12-04T15:55:03.547774",
     "status": "completed"
    },
    "tags": []
   },
   "source": [
    "# Build a new dataframe by selecting useful features."
   ]
  },
  {
   "cell_type": "code",
   "execution_count": 3,
   "id": "21041ec6",
   "metadata": {
    "_cell_guid": "dd099707-578e-4510-a78d-56b969921d45",
    "_uuid": "d89983c2-1181-4129-ae93-3080d1112dba",
    "collapsed": false,
    "execution": {
     "iopub.execute_input": "2024-12-04T15:55:03.566520Z",
     "iopub.status.busy": "2024-12-04T15:55:03.566195Z",
     "iopub.status.idle": "2024-12-04T15:55:15.876596Z",
     "shell.execute_reply": "2024-12-04T15:55:15.875350Z"
    },
    "jupyter": {
     "outputs_hidden": false
    },
    "papermill": {
     "duration": 12.319343,
     "end_time": "2024-12-04T15:55:15.878540",
     "exception": false,
     "start_time": "2024-12-04T15:55:03.559197",
     "status": "completed"
    },
    "tags": []
   },
   "outputs": [
    {
     "name": "stdout",
     "output_type": "stream",
     "text": [
      "   tweet_id                                               text       emotion  \\\n",
      "0  0x376b20  People who post \"add me on #Snapchat\" must be ...  anticipation   \n",
      "1  0x2d5350  @brianklaas As we see, Trump is dangerous to #...       sadness   \n",
      "2  0x28b412  Confident of your obedience, I write to you, k...           NaN   \n",
      "3  0x1cd5b0                Now ISSA is stalking Tasha 😂😂😂 <LH>          fear   \n",
      "4  0x2de201  \"Trust is not the same as faith. A friend is s...           NaN   \n",
      "\n",
      "  identification  \n",
      "0          train  \n",
      "1          train  \n",
      "2           test  \n",
      "3          train  \n",
      "4           test  \n",
      "Train data: 1455563 rows\n",
      "Test data: 411972 rows\n"
     ]
    }
   ],
   "source": [
    "# Create DataFrame from JSON\n",
    "df = pd.DataFrame(data)\n",
    "_source = df['_source'].apply(lambda x: x['tweet'])\n",
    "df = pd.DataFrame({\n",
    "    'tweet_id': _source.apply(lambda x: x['tweet_id']),\n",
    "    'text': _source.apply(lambda x: x['text']),\n",
    "})\n",
    "\n",
    "# Merge emotion and data_identification\n",
    "df = df.merge(emotion, on='tweet_id', how='left')  # Add emotion column\n",
    "df = df.merge(data_id, on='tweet_id', how='left')  # Add identification column\n",
    "\n",
    "# Display resulting DataFrame\n",
    "# Check if all columns are included: tweet_id, text, emotion, identification\n",
    "print(df.head())  \n",
    "\n",
    "# Split into train_data and test_data\n",
    "train_data = df[df['identification'] == 'train']\n",
    "test_data = df[df['identification'] == 'test']\n",
    "\n",
    "# Verify splits\n",
    "print(f\"Train data: {len(train_data)} rows\")\n",
    "print(f\"Test data: {len(test_data)} rows\")"
   ]
  },
  {
   "cell_type": "code",
   "execution_count": 4,
   "id": "4bc84d1e",
   "metadata": {
    "execution": {
     "iopub.execute_input": "2024-12-04T15:55:15.892834Z",
     "iopub.status.busy": "2024-12-04T15:55:15.892507Z",
     "iopub.status.idle": "2024-12-04T15:55:15.906718Z",
     "shell.execute_reply": "2024-12-04T15:55:15.905838Z"
    },
    "papermill": {
     "duration": 0.023365,
     "end_time": "2024-12-04T15:55:15.908470",
     "exception": false,
     "start_time": "2024-12-04T15:55:15.885105",
     "status": "completed"
    },
    "tags": []
   },
   "outputs": [
    {
     "data": {
      "text/html": [
       "<div>\n",
       "<style scoped>\n",
       "    .dataframe tbody tr th:only-of-type {\n",
       "        vertical-align: middle;\n",
       "    }\n",
       "\n",
       "    .dataframe tbody tr th {\n",
       "        vertical-align: top;\n",
       "    }\n",
       "\n",
       "    .dataframe thead th {\n",
       "        text-align: right;\n",
       "    }\n",
       "</style>\n",
       "<table border=\"1\" class=\"dataframe\">\n",
       "  <thead>\n",
       "    <tr style=\"text-align: right;\">\n",
       "      <th></th>\n",
       "      <th>tweet_id</th>\n",
       "      <th>text</th>\n",
       "      <th>emotion</th>\n",
       "      <th>identification</th>\n",
       "    </tr>\n",
       "  </thead>\n",
       "  <tbody>\n",
       "    <tr>\n",
       "      <th>0</th>\n",
       "      <td>0x376b20</td>\n",
       "      <td>People who post \"add me on #Snapchat\" must be ...</td>\n",
       "      <td>anticipation</td>\n",
       "      <td>train</td>\n",
       "    </tr>\n",
       "    <tr>\n",
       "      <th>1</th>\n",
       "      <td>0x2d5350</td>\n",
       "      <td>@brianklaas As we see, Trump is dangerous to #...</td>\n",
       "      <td>sadness</td>\n",
       "      <td>train</td>\n",
       "    </tr>\n",
       "    <tr>\n",
       "      <th>3</th>\n",
       "      <td>0x1cd5b0</td>\n",
       "      <td>Now ISSA is stalking Tasha 😂😂😂 &lt;LH&gt;</td>\n",
       "      <td>fear</td>\n",
       "      <td>train</td>\n",
       "    </tr>\n",
       "    <tr>\n",
       "      <th>5</th>\n",
       "      <td>0x1d755c</td>\n",
       "      <td>@RISKshow @TheKevinAllison Thx for the BEST TI...</td>\n",
       "      <td>joy</td>\n",
       "      <td>train</td>\n",
       "    </tr>\n",
       "    <tr>\n",
       "      <th>6</th>\n",
       "      <td>0x2c91a8</td>\n",
       "      <td>Still waiting on those supplies Liscus. &lt;LH&gt;</td>\n",
       "      <td>anticipation</td>\n",
       "      <td>train</td>\n",
       "    </tr>\n",
       "    <tr>\n",
       "      <th>7</th>\n",
       "      <td>0x368e95</td>\n",
       "      <td>Love knows no gender. 😢😭 &lt;LH&gt;</td>\n",
       "      <td>joy</td>\n",
       "      <td>train</td>\n",
       "    </tr>\n",
       "    <tr>\n",
       "      <th>8</th>\n",
       "      <td>0x249c0c</td>\n",
       "      <td>@DStvNgCare @DStvNg More highlights are being ...</td>\n",
       "      <td>sadness</td>\n",
       "      <td>train</td>\n",
       "    </tr>\n",
       "    <tr>\n",
       "      <th>10</th>\n",
       "      <td>0x359db9</td>\n",
       "      <td>The #SSM debate; &lt;LH&gt; (a manufactured fantasy ...</td>\n",
       "      <td>anticipation</td>\n",
       "      <td>train</td>\n",
       "    </tr>\n",
       "    <tr>\n",
       "      <th>11</th>\n",
       "      <td>0x23b037</td>\n",
       "      <td>I love suffering 🙃🙃 I love when valium does no...</td>\n",
       "      <td>joy</td>\n",
       "      <td>train</td>\n",
       "    </tr>\n",
       "    <tr>\n",
       "      <th>12</th>\n",
       "      <td>0x1fde89</td>\n",
       "      <td>Can someone tell my why my feeds scroll back t...</td>\n",
       "      <td>anger</td>\n",
       "      <td>train</td>\n",
       "    </tr>\n",
       "  </tbody>\n",
       "</table>\n",
       "</div>"
      ],
      "text/plain": [
       "    tweet_id                                               text       emotion  \\\n",
       "0   0x376b20  People who post \"add me on #Snapchat\" must be ...  anticipation   \n",
       "1   0x2d5350  @brianklaas As we see, Trump is dangerous to #...       sadness   \n",
       "3   0x1cd5b0                Now ISSA is stalking Tasha 😂😂😂 <LH>          fear   \n",
       "5   0x1d755c  @RISKshow @TheKevinAllison Thx for the BEST TI...           joy   \n",
       "6   0x2c91a8       Still waiting on those supplies Liscus. <LH>  anticipation   \n",
       "7   0x368e95                      Love knows no gender. 😢😭 <LH>           joy   \n",
       "8   0x249c0c  @DStvNgCare @DStvNg More highlights are being ...       sadness   \n",
       "10  0x359db9  The #SSM debate; <LH> (a manufactured fantasy ...  anticipation   \n",
       "11  0x23b037  I love suffering 🙃🙃 I love when valium does no...           joy   \n",
       "12  0x1fde89  Can someone tell my why my feeds scroll back t...         anger   \n",
       "\n",
       "   identification  \n",
       "0           train  \n",
       "1           train  \n",
       "3           train  \n",
       "5           train  \n",
       "6           train  \n",
       "7           train  \n",
       "8           train  \n",
       "10          train  \n",
       "11          train  \n",
       "12          train  "
      ]
     },
     "execution_count": 4,
     "metadata": {},
     "output_type": "execute_result"
    }
   ],
   "source": [
    "train_data.head(10)"
   ]
  },
  {
   "cell_type": "code",
   "execution_count": 5,
   "id": "c3990229",
   "metadata": {
    "execution": {
     "iopub.execute_input": "2024-12-04T15:55:15.924377Z",
     "iopub.status.busy": "2024-12-04T15:55:15.923655Z",
     "iopub.status.idle": "2024-12-04T15:55:15.933590Z",
     "shell.execute_reply": "2024-12-04T15:55:15.932689Z"
    },
    "papermill": {
     "duration": 0.01888,
     "end_time": "2024-12-04T15:55:15.935313",
     "exception": false,
     "start_time": "2024-12-04T15:55:15.916433",
     "status": "completed"
    },
    "tags": []
   },
   "outputs": [
    {
     "data": {
      "text/html": [
       "<div>\n",
       "<style scoped>\n",
       "    .dataframe tbody tr th:only-of-type {\n",
       "        vertical-align: middle;\n",
       "    }\n",
       "\n",
       "    .dataframe tbody tr th {\n",
       "        vertical-align: top;\n",
       "    }\n",
       "\n",
       "    .dataframe thead th {\n",
       "        text-align: right;\n",
       "    }\n",
       "</style>\n",
       "<table border=\"1\" class=\"dataframe\">\n",
       "  <thead>\n",
       "    <tr style=\"text-align: right;\">\n",
       "      <th></th>\n",
       "      <th>tweet_id</th>\n",
       "      <th>text</th>\n",
       "      <th>emotion</th>\n",
       "      <th>identification</th>\n",
       "    </tr>\n",
       "  </thead>\n",
       "  <tbody>\n",
       "    <tr>\n",
       "      <th>2</th>\n",
       "      <td>0x28b412</td>\n",
       "      <td>Confident of your obedience, I write to you, k...</td>\n",
       "      <td>NaN</td>\n",
       "      <td>test</td>\n",
       "    </tr>\n",
       "    <tr>\n",
       "      <th>4</th>\n",
       "      <td>0x2de201</td>\n",
       "      <td>\"Trust is not the same as faith. A friend is s...</td>\n",
       "      <td>NaN</td>\n",
       "      <td>test</td>\n",
       "    </tr>\n",
       "    <tr>\n",
       "      <th>9</th>\n",
       "      <td>0x218443</td>\n",
       "      <td>When do you have enough ? When are you satisfi...</td>\n",
       "      <td>NaN</td>\n",
       "      <td>test</td>\n",
       "    </tr>\n",
       "    <tr>\n",
       "      <th>30</th>\n",
       "      <td>0x2939d5</td>\n",
       "      <td>God woke you up, now chase the day #GodsPlan #...</td>\n",
       "      <td>NaN</td>\n",
       "      <td>test</td>\n",
       "    </tr>\n",
       "    <tr>\n",
       "      <th>33</th>\n",
       "      <td>0x26289a</td>\n",
       "      <td>In these tough times, who do YOU turn to as yo...</td>\n",
       "      <td>NaN</td>\n",
       "      <td>test</td>\n",
       "    </tr>\n",
       "    <tr>\n",
       "      <th>35</th>\n",
       "      <td>0x31c6e0</td>\n",
       "      <td>Turns out you can recognise people by their un...</td>\n",
       "      <td>NaN</td>\n",
       "      <td>test</td>\n",
       "    </tr>\n",
       "    <tr>\n",
       "      <th>37</th>\n",
       "      <td>0x32edee</td>\n",
       "      <td>I like how Hayvens mommy, daddy, and the keybo...</td>\n",
       "      <td>NaN</td>\n",
       "      <td>test</td>\n",
       "    </tr>\n",
       "    <tr>\n",
       "      <th>46</th>\n",
       "      <td>0x3714ee</td>\n",
       "      <td>I just love it when every single one of my son...</td>\n",
       "      <td>NaN</td>\n",
       "      <td>test</td>\n",
       "    </tr>\n",
       "    <tr>\n",
       "      <th>49</th>\n",
       "      <td>0x235628</td>\n",
       "      <td>@JulieChen when can we expect a season of #Cel...</td>\n",
       "      <td>NaN</td>\n",
       "      <td>test</td>\n",
       "    </tr>\n",
       "    <tr>\n",
       "      <th>56</th>\n",
       "      <td>0x283024</td>\n",
       "      <td>Tbh. Regret hurts more than stepping on a LEGO...</td>\n",
       "      <td>NaN</td>\n",
       "      <td>test</td>\n",
       "    </tr>\n",
       "  </tbody>\n",
       "</table>\n",
       "</div>"
      ],
      "text/plain": [
       "    tweet_id                                               text emotion  \\\n",
       "2   0x28b412  Confident of your obedience, I write to you, k...     NaN   \n",
       "4   0x2de201  \"Trust is not the same as faith. A friend is s...     NaN   \n",
       "9   0x218443  When do you have enough ? When are you satisfi...     NaN   \n",
       "30  0x2939d5  God woke you up, now chase the day #GodsPlan #...     NaN   \n",
       "33  0x26289a  In these tough times, who do YOU turn to as yo...     NaN   \n",
       "35  0x31c6e0  Turns out you can recognise people by their un...     NaN   \n",
       "37  0x32edee  I like how Hayvens mommy, daddy, and the keybo...     NaN   \n",
       "46  0x3714ee  I just love it when every single one of my son...     NaN   \n",
       "49  0x235628  @JulieChen when can we expect a season of #Cel...     NaN   \n",
       "56  0x283024  Tbh. Regret hurts more than stepping on a LEGO...     NaN   \n",
       "\n",
       "   identification  \n",
       "2            test  \n",
       "4            test  \n",
       "9            test  \n",
       "30           test  \n",
       "33           test  \n",
       "35           test  \n",
       "37           test  \n",
       "46           test  \n",
       "49           test  \n",
       "56           test  "
      ]
     },
     "execution_count": 5,
     "metadata": {},
     "output_type": "execute_result"
    }
   ],
   "source": [
    "test_data.head(10)"
   ]
  },
  {
   "cell_type": "markdown",
   "id": "680d112c",
   "metadata": {
    "papermill": {
     "duration": 0.006275,
     "end_time": "2024-12-04T15:55:15.948107",
     "exception": false,
     "start_time": "2024-12-04T15:55:15.941832",
     "status": "completed"
    },
    "tags": []
   },
   "source": [
    "### Droping tweet_id and identification, because it isn't going to be features used on training"
   ]
  },
  {
   "cell_type": "code",
   "execution_count": 6,
   "id": "8b25e457",
   "metadata": {
    "_cell_guid": "39937cf7-dddd-41d9-aaa8-09274dd3ef19",
    "_uuid": "9a987df6-b0d2-427c-80ff-a8cd876c6e96",
    "collapsed": false,
    "execution": {
     "iopub.execute_input": "2024-12-04T15:55:15.961964Z",
     "iopub.status.busy": "2024-12-04T15:55:15.961704Z",
     "iopub.status.idle": "2024-12-04T15:55:15.998364Z",
     "shell.execute_reply": "2024-12-04T15:55:15.997443Z"
    },
    "jupyter": {
     "outputs_hidden": false
    },
    "papermill": {
     "duration": 0.046158,
     "end_time": "2024-12-04T15:55:16.000812",
     "exception": false,
     "start_time": "2024-12-04T15:55:15.954654",
     "status": "completed"
    },
    "tags": []
   },
   "outputs": [],
   "source": [
    "y_train_data = train_data['emotion']\n",
    "X_train_data = train_data.drop(['tweet_id', 'emotion', 'identification'], axis=1)"
   ]
  },
  {
   "cell_type": "code",
   "execution_count": 7,
   "id": "04c7967d",
   "metadata": {
    "execution": {
     "iopub.execute_input": "2024-12-04T15:55:16.015060Z",
     "iopub.status.busy": "2024-12-04T15:55:16.014783Z",
     "iopub.status.idle": "2024-12-04T15:55:16.023776Z",
     "shell.execute_reply": "2024-12-04T15:55:16.022844Z"
    },
    "papermill": {
     "duration": 0.017899,
     "end_time": "2024-12-04T15:55:16.025469",
     "exception": false,
     "start_time": "2024-12-04T15:55:16.007570",
     "status": "completed"
    },
    "tags": []
   },
   "outputs": [
    {
     "data": {
      "text/html": [
       "<div>\n",
       "<style scoped>\n",
       "    .dataframe tbody tr th:only-of-type {\n",
       "        vertical-align: middle;\n",
       "    }\n",
       "\n",
       "    .dataframe tbody tr th {\n",
       "        vertical-align: top;\n",
       "    }\n",
       "\n",
       "    .dataframe thead th {\n",
       "        text-align: right;\n",
       "    }\n",
       "</style>\n",
       "<table border=\"1\" class=\"dataframe\">\n",
       "  <thead>\n",
       "    <tr style=\"text-align: right;\">\n",
       "      <th></th>\n",
       "      <th>text</th>\n",
       "    </tr>\n",
       "  </thead>\n",
       "  <tbody>\n",
       "    <tr>\n",
       "      <th>0</th>\n",
       "      <td>People who post \"add me on #Snapchat\" must be ...</td>\n",
       "    </tr>\n",
       "    <tr>\n",
       "      <th>1</th>\n",
       "      <td>@brianklaas As we see, Trump is dangerous to #...</td>\n",
       "    </tr>\n",
       "    <tr>\n",
       "      <th>3</th>\n",
       "      <td>Now ISSA is stalking Tasha 😂😂😂 &lt;LH&gt;</td>\n",
       "    </tr>\n",
       "    <tr>\n",
       "      <th>5</th>\n",
       "      <td>@RISKshow @TheKevinAllison Thx for the BEST TI...</td>\n",
       "    </tr>\n",
       "    <tr>\n",
       "      <th>6</th>\n",
       "      <td>Still waiting on those supplies Liscus. &lt;LH&gt;</td>\n",
       "    </tr>\n",
       "    <tr>\n",
       "      <th>...</th>\n",
       "      <td>...</td>\n",
       "    </tr>\n",
       "    <tr>\n",
       "      <th>1867526</th>\n",
       "      <td>I'm SO HAPPY!!! #NoWonder the name of this sho...</td>\n",
       "    </tr>\n",
       "    <tr>\n",
       "      <th>1867527</th>\n",
       "      <td>In every circumtance I'd like to be thankful t...</td>\n",
       "    </tr>\n",
       "    <tr>\n",
       "      <th>1867528</th>\n",
       "      <td>there's currently two girls walking around the...</td>\n",
       "    </tr>\n",
       "    <tr>\n",
       "      <th>1867533</th>\n",
       "      <td>Ah, corporate life, where you can date &lt;LH&gt; us...</td>\n",
       "    </tr>\n",
       "    <tr>\n",
       "      <th>1867534</th>\n",
       "      <td>Blessed to be living #Sundayvibes &lt;LH&gt;</td>\n",
       "    </tr>\n",
       "  </tbody>\n",
       "</table>\n",
       "<p>1455563 rows × 1 columns</p>\n",
       "</div>"
      ],
      "text/plain": [
       "                                                      text\n",
       "0        People who post \"add me on #Snapchat\" must be ...\n",
       "1        @brianklaas As we see, Trump is dangerous to #...\n",
       "3                      Now ISSA is stalking Tasha 😂😂😂 <LH>\n",
       "5        @RISKshow @TheKevinAllison Thx for the BEST TI...\n",
       "6             Still waiting on those supplies Liscus. <LH>\n",
       "...                                                    ...\n",
       "1867526  I'm SO HAPPY!!! #NoWonder the name of this sho...\n",
       "1867527  In every circumtance I'd like to be thankful t...\n",
       "1867528  there's currently two girls walking around the...\n",
       "1867533  Ah, corporate life, where you can date <LH> us...\n",
       "1867534             Blessed to be living #Sundayvibes <LH>\n",
       "\n",
       "[1455563 rows x 1 columns]"
      ]
     },
     "execution_count": 7,
     "metadata": {},
     "output_type": "execute_result"
    }
   ],
   "source": [
    "X_train_data"
   ]
  },
  {
   "cell_type": "code",
   "execution_count": 8,
   "id": "92f14002",
   "metadata": {
    "execution": {
     "iopub.execute_input": "2024-12-04T15:55:16.039719Z",
     "iopub.status.busy": "2024-12-04T15:55:16.039485Z",
     "iopub.status.idle": "2024-12-04T15:55:16.045500Z",
     "shell.execute_reply": "2024-12-04T15:55:16.044759Z"
    },
    "papermill": {
     "duration": 0.01493,
     "end_time": "2024-12-04T15:55:16.047154",
     "exception": false,
     "start_time": "2024-12-04T15:55:16.032224",
     "status": "completed"
    },
    "tags": []
   },
   "outputs": [
    {
     "data": {
      "text/plain": [
       "0          anticipation\n",
       "1               sadness\n",
       "3                  fear\n",
       "5                   joy\n",
       "6          anticipation\n",
       "               ...     \n",
       "1867526             joy\n",
       "1867527             joy\n",
       "1867528             joy\n",
       "1867533             joy\n",
       "1867534             joy\n",
       "Name: emotion, Length: 1455563, dtype: object"
      ]
     },
     "execution_count": 8,
     "metadata": {},
     "output_type": "execute_result"
    }
   ],
   "source": [
    "y_train_data"
   ]
  },
  {
   "cell_type": "code",
   "execution_count": 9,
   "id": "42240049",
   "metadata": {
    "_cell_guid": "27d6f1a6-e2c1-4f02-be9c-b0a941f7d4d3",
    "_uuid": "783a7801-2b7b-48af-bc79-daa7683d8e9d",
    "collapsed": false,
    "execution": {
     "iopub.execute_input": "2024-12-04T15:55:16.062142Z",
     "iopub.status.busy": "2024-12-04T15:55:16.061886Z",
     "iopub.status.idle": "2024-12-04T15:55:18.108412Z",
     "shell.execute_reply": "2024-12-04T15:55:18.107684Z"
    },
    "jupyter": {
     "outputs_hidden": false
    },
    "papermill": {
     "duration": 2.056079,
     "end_time": "2024-12-04T15:55:18.110569",
     "exception": false,
     "start_time": "2024-12-04T15:55:16.054490",
     "status": "completed"
    },
    "tags": []
   },
   "outputs": [],
   "source": [
    "from sklearn.model_selection import train_test_split\n",
    "# Split training and testing data for evaluation.\n",
    "X_train, X_test, y_train, y_test = train_test_split(X_train_data, y_train_data, test_size=0.2, random_state=42, stratify=y_train_data) "
   ]
  },
  {
   "cell_type": "code",
   "execution_count": 10,
   "id": "f4fd68f7",
   "metadata": {
    "execution": {
     "iopub.execute_input": "2024-12-04T15:55:18.126003Z",
     "iopub.status.busy": "2024-12-04T15:55:18.125714Z",
     "iopub.status.idle": "2024-12-04T15:55:18.134633Z",
     "shell.execute_reply": "2024-12-04T15:55:18.133777Z"
    },
    "papermill": {
     "duration": 0.018649,
     "end_time": "2024-12-04T15:55:18.136491",
     "exception": false,
     "start_time": "2024-12-04T15:55:18.117842",
     "status": "completed"
    },
    "tags": []
   },
   "outputs": [
    {
     "data": {
      "text/html": [
       "<div>\n",
       "<style scoped>\n",
       "    .dataframe tbody tr th:only-of-type {\n",
       "        vertical-align: middle;\n",
       "    }\n",
       "\n",
       "    .dataframe tbody tr th {\n",
       "        vertical-align: top;\n",
       "    }\n",
       "\n",
       "    .dataframe thead th {\n",
       "        text-align: right;\n",
       "    }\n",
       "</style>\n",
       "<table border=\"1\" class=\"dataframe\">\n",
       "  <thead>\n",
       "    <tr style=\"text-align: right;\">\n",
       "      <th></th>\n",
       "      <th>text</th>\n",
       "    </tr>\n",
       "  </thead>\n",
       "  <tbody>\n",
       "    <tr>\n",
       "      <th>1488945</th>\n",
       "      <td>@HarmsWayChad Yes you are so right! &lt;LH&gt;</td>\n",
       "    </tr>\n",
       "    <tr>\n",
       "      <th>824636</th>\n",
       "      <td>When I see who He is, I know who I am.. &lt;LH&gt; &lt;...</td>\n",
       "    </tr>\n",
       "    <tr>\n",
       "      <th>1246682</th>\n",
       "      <td>@Interscope @LanaDelRey Love &lt;LH&gt; !</td>\n",
       "    </tr>\n",
       "    <tr>\n",
       "      <th>1158787</th>\n",
       "      <td>the cutest boy just took my order at starbucks...</td>\n",
       "    </tr>\n",
       "    <tr>\n",
       "      <th>1618785</th>\n",
       "      <td>God Thank you for the successful of #AidForHum...</td>\n",
       "    </tr>\n",
       "    <tr>\n",
       "      <th>...</th>\n",
       "      <td>...</td>\n",
       "    </tr>\n",
       "    <tr>\n",
       "      <th>1275457</th>\n",
       "      <td>@ArthurSchwartz @HillelSims Joy Reed is a &lt;LH&gt;...</td>\n",
       "    </tr>\n",
       "    <tr>\n",
       "      <th>1537386</th>\n",
       "      <td>Happiness will come to you when it comes from ...</td>\n",
       "    </tr>\n",
       "    <tr>\n",
       "      <th>1641296</th>\n",
       "      <td>@Jaspritbumrah93 @msdhoni You r &lt;LH&gt; MS @msdho...</td>\n",
       "    </tr>\n",
       "    <tr>\n",
       "      <th>533531</th>\n",
       "      <td>so awesome seeing @chefjoseandres and other re...</td>\n",
       "    </tr>\n",
       "    <tr>\n",
       "      <th>361133</th>\n",
       "      <td>&lt;LH&gt; that my phone somehow deleted all your texts</td>\n",
       "    </tr>\n",
       "  </tbody>\n",
       "</table>\n",
       "<p>1164450 rows × 1 columns</p>\n",
       "</div>"
      ],
      "text/plain": [
       "                                                      text\n",
       "1488945           @HarmsWayChad Yes you are so right! <LH>\n",
       "824636   When I see who He is, I know who I am.. <LH> <...\n",
       "1246682                @Interscope @LanaDelRey Love <LH> !\n",
       "1158787  the cutest boy just took my order at starbucks...\n",
       "1618785  God Thank you for the successful of #AidForHum...\n",
       "...                                                    ...\n",
       "1275457  @ArthurSchwartz @HillelSims Joy Reed is a <LH>...\n",
       "1537386  Happiness will come to you when it comes from ...\n",
       "1641296  @Jaspritbumrah93 @msdhoni You r <LH> MS @msdho...\n",
       "533531   so awesome seeing @chefjoseandres and other re...\n",
       "361133   <LH> that my phone somehow deleted all your texts\n",
       "\n",
       "[1164450 rows x 1 columns]"
      ]
     },
     "execution_count": 10,
     "metadata": {},
     "output_type": "execute_result"
    }
   ],
   "source": [
    "X_train"
   ]
  },
  {
   "cell_type": "code",
   "execution_count": 11,
   "id": "077310a6",
   "metadata": {
    "execution": {
     "iopub.execute_input": "2024-12-04T15:55:18.152399Z",
     "iopub.status.busy": "2024-12-04T15:55:18.152109Z",
     "iopub.status.idle": "2024-12-04T15:55:18.158324Z",
     "shell.execute_reply": "2024-12-04T15:55:18.157474Z"
    },
    "papermill": {
     "duration": 0.015661,
     "end_time": "2024-12-04T15:55:18.160067",
     "exception": false,
     "start_time": "2024-12-04T15:55:18.144406",
     "status": "completed"
    },
    "tags": []
   },
   "outputs": [
    {
     "data": {
      "text/plain": [
       "1488945        joy\n",
       "824636         joy\n",
       "1246682        joy\n",
       "1158787        joy\n",
       "1618785        joy\n",
       "            ...   \n",
       "1275457    disgust\n",
       "1537386        joy\n",
       "1641296        joy\n",
       "533531       trust\n",
       "361133         joy\n",
       "Name: emotion, Length: 1164450, dtype: object"
      ]
     },
     "execution_count": 11,
     "metadata": {},
     "output_type": "execute_result"
    }
   ],
   "source": [
    "y_train"
   ]
  },
  {
   "cell_type": "code",
   "execution_count": 12,
   "id": "fc2eb937",
   "metadata": {
    "execution": {
     "iopub.execute_input": "2024-12-04T15:55:18.175775Z",
     "iopub.status.busy": "2024-12-04T15:55:18.175535Z",
     "iopub.status.idle": "2024-12-04T15:55:18.183750Z",
     "shell.execute_reply": "2024-12-04T15:55:18.182889Z"
    },
    "papermill": {
     "duration": 0.017889,
     "end_time": "2024-12-04T15:55:18.185493",
     "exception": false,
     "start_time": "2024-12-04T15:55:18.167604",
     "status": "completed"
    },
    "tags": []
   },
   "outputs": [
    {
     "data": {
      "text/html": [
       "<div>\n",
       "<style scoped>\n",
       "    .dataframe tbody tr th:only-of-type {\n",
       "        vertical-align: middle;\n",
       "    }\n",
       "\n",
       "    .dataframe tbody tr th {\n",
       "        vertical-align: top;\n",
       "    }\n",
       "\n",
       "    .dataframe thead th {\n",
       "        text-align: right;\n",
       "    }\n",
       "</style>\n",
       "<table border=\"1\" class=\"dataframe\">\n",
       "  <thead>\n",
       "    <tr style=\"text-align: right;\">\n",
       "      <th></th>\n",
       "      <th>text</th>\n",
       "    </tr>\n",
       "  </thead>\n",
       "  <tbody>\n",
       "    <tr>\n",
       "      <th>302181</th>\n",
       "      <td>@TobiasTuti #faith, #hope, and &lt;LH&gt; will last ...</td>\n",
       "    </tr>\n",
       "    <tr>\n",
       "      <th>1134130</th>\n",
       "      <td>HBO/HBOgo Should just drop the whole season ju...</td>\n",
       "    </tr>\n",
       "    <tr>\n",
       "      <th>71178</th>\n",
       "      <td>✴Give us a try!✴  Looking for a particular ser...</td>\n",
       "    </tr>\n",
       "    <tr>\n",
       "      <th>744197</th>\n",
       "      <td>Feels like the end of September. &lt;LH&gt;</td>\n",
       "    </tr>\n",
       "    <tr>\n",
       "      <th>19011</th>\n",
       "      <td>What is it about our culture that has made sex...</td>\n",
       "    </tr>\n",
       "    <tr>\n",
       "      <th>...</th>\n",
       "      <td>...</td>\n",
       "    </tr>\n",
       "    <tr>\n",
       "      <th>902293</th>\n",
       "      <td>@PDPhillipsJa @PSimpsonMiller @DrShaneAlexis @...</td>\n",
       "    </tr>\n",
       "    <tr>\n",
       "      <th>883664</th>\n",
       "      <td>literally so &lt;LH&gt; to have Zofija in my flat lol</td>\n",
       "    </tr>\n",
       "    <tr>\n",
       "      <th>1494184</th>\n",
       "      <td>GAMEDAY!Bell Creek @ CCS @ 4. John 17:4 #CCC &lt;LH&gt;</td>\n",
       "    </tr>\n",
       "    <tr>\n",
       "      <th>1754951</th>\n",
       "      <td>@wikiwachee @JulianCastro Was wondering the sa...</td>\n",
       "    </tr>\n",
       "    <tr>\n",
       "      <th>911498</th>\n",
       "      <td>@JordanUhl All those people out there and they...</td>\n",
       "    </tr>\n",
       "  </tbody>\n",
       "</table>\n",
       "<p>291113 rows × 1 columns</p>\n",
       "</div>"
      ],
      "text/plain": [
       "                                                      text\n",
       "302181   @TobiasTuti #faith, #hope, and <LH> will last ...\n",
       "1134130  HBO/HBOgo Should just drop the whole season ju...\n",
       "71178    ✴Give us a try!✴  Looking for a particular ser...\n",
       "744197               Feels like the end of September. <LH>\n",
       "19011    What is it about our culture that has made sex...\n",
       "...                                                    ...\n",
       "902293   @PDPhillipsJa @PSimpsonMiller @DrShaneAlexis @...\n",
       "883664     literally so <LH> to have Zofija in my flat lol\n",
       "1494184  GAMEDAY!Bell Creek @ CCS @ 4. John 17:4 #CCC <LH>\n",
       "1754951  @wikiwachee @JulianCastro Was wondering the sa...\n",
       "911498   @JordanUhl All those people out there and they...\n",
       "\n",
       "[291113 rows x 1 columns]"
      ]
     },
     "execution_count": 12,
     "metadata": {},
     "output_type": "execute_result"
    }
   ],
   "source": [
    "X_test"
   ]
  },
  {
   "cell_type": "code",
   "execution_count": 13,
   "id": "f36204f7",
   "metadata": {
    "execution": {
     "iopub.execute_input": "2024-12-04T15:55:18.202214Z",
     "iopub.status.busy": "2024-12-04T15:55:18.201621Z",
     "iopub.status.idle": "2024-12-04T15:55:18.208474Z",
     "shell.execute_reply": "2024-12-04T15:55:18.207532Z"
    },
    "papermill": {
     "duration": 0.017268,
     "end_time": "2024-12-04T15:55:18.210499",
     "exception": false,
     "start_time": "2024-12-04T15:55:18.193231",
     "status": "completed"
    },
    "tags": []
   },
   "outputs": [
    {
     "data": {
      "text/plain": [
       "302181         joy\n",
       "1134130       fear\n",
       "71178          joy\n",
       "744197         joy\n",
       "19011      sadness\n",
       "            ...   \n",
       "902293     disgust\n",
       "883664         joy\n",
       "1494184      trust\n",
       "1754951      trust\n",
       "911498     sadness\n",
       "Name: emotion, Length: 291113, dtype: object"
      ]
     },
     "execution_count": 13,
     "metadata": {},
     "output_type": "execute_result"
    }
   ],
   "source": [
    "y_test"
   ]
  },
  {
   "cell_type": "code",
   "execution_count": 14,
   "id": "8eea2c9e",
   "metadata": {
    "_cell_guid": "69a49263-23bf-4c77-80b4-599109e07eb4",
    "_uuid": "8c24dec5-49fb-466a-9261-c8c32aa4a651",
    "execution": {
     "iopub.execute_input": "2024-12-04T15:55:18.227235Z",
     "iopub.status.busy": "2024-12-04T15:55:18.226912Z",
     "iopub.status.idle": "2024-12-04T15:55:56.075933Z",
     "shell.execute_reply": "2024-12-04T15:55:56.074642Z"
    },
    "papermill": {
     "duration": 37.85948,
     "end_time": "2024-12-04T15:55:56.078304",
     "exception": false,
     "start_time": "2024-12-04T15:55:18.218824",
     "status": "completed"
    },
    "tags": []
   },
   "outputs": [],
   "source": [
    "tfidf = TfidfVectorizer(max_features=1000) # Use tfidfVectorizer and remove stop_words.\n",
    "X = tfidf.fit_transform(X_train['text']).toarray()\n",
    "X_test = tfidf.transform(X_test['text'])"
   ]
  },
  {
   "cell_type": "code",
   "execution_count": 15,
   "id": "628b1465",
   "metadata": {
    "_cell_guid": "4cd63df9-a7b2-4855-ac8e-d6b76081018c",
    "_uuid": "9f0721ae-12d7-4664-8abb-c2bb624517c4",
    "execution": {
     "iopub.execute_input": "2024-12-04T15:55:56.095882Z",
     "iopub.status.busy": "2024-12-04T15:55:56.095565Z",
     "iopub.status.idle": "2024-12-04T15:55:56.321065Z",
     "shell.execute_reply": "2024-12-04T15:55:56.320229Z"
    },
    "papermill": {
     "duration": 0.236687,
     "end_time": "2024-12-04T15:55:56.323326",
     "exception": false,
     "start_time": "2024-12-04T15:55:56.086639",
     "status": "completed"
    },
    "tags": []
   },
   "outputs": [],
   "source": [
    "le = LabelEncoder() # Label target\n",
    "y = le.fit_transform(y_train)\n",
    "y_test = le.transform(y_test)"
   ]
  },
  {
   "cell_type": "code",
   "execution_count": 16,
   "id": "599ecaca",
   "metadata": {
    "_cell_guid": "743b776c-f14b-4bda-910e-67a23b359bd5",
    "_uuid": "f736b5f0-b152-4af2-afd3-1000ddc9ae8b",
    "execution": {
     "iopub.execute_input": "2024-12-04T15:55:56.340203Z",
     "iopub.status.busy": "2024-12-04T15:55:56.339877Z",
     "iopub.status.idle": "2024-12-04T15:57:29.716972Z",
     "shell.execute_reply": "2024-12-04T15:57:29.716148Z"
    },
    "papermill": {
     "duration": 93.387763,
     "end_time": "2024-12-04T15:57:29.719411",
     "exception": false,
     "start_time": "2024-12-04T15:55:56.331648",
     "status": "completed"
    },
    "tags": []
   },
   "outputs": [],
   "source": [
    "from sklearn.ensemble import RandomForestClassifier\n",
    "\n",
    "clf = RandomForestClassifier(\n",
    "    n_estimators=50,         # Description: The number of trees in the forest. Default: 100\n",
    "    max_depth=10,             # Limit tree depth\n",
    "    random_state=42,          # Ensure reproducibility\n",
    "    n_jobs=-1,                # Use all processors for faster computation\n",
    ")\n",
    "\n",
    "clf.fit(X, y)\n",
    "model = clf"
   ]
  },
  {
   "cell_type": "markdown",
   "id": "81d1871b",
   "metadata": {
    "papermill": {
     "duration": 0.00757,
     "end_time": "2024-12-04T15:57:29.735463",
     "exception": false,
     "start_time": "2024-12-04T15:57:29.727893",
     "status": "completed"
    },
    "tags": []
   },
   "source": [
    "## predict"
   ]
  },
  {
   "cell_type": "code",
   "execution_count": 17,
   "id": "74243a36",
   "metadata": {
    "_cell_guid": "88f87726-0018-49e1-8bf3-d459da0636e4",
    "_uuid": "55b7553c-bd26-430a-9b84-99441bd41e94",
    "collapsed": false,
    "execution": {
     "iopub.execute_input": "2024-12-04T15:57:29.752629Z",
     "iopub.status.busy": "2024-12-04T15:57:29.751824Z",
     "iopub.status.idle": "2024-12-04T15:57:37.232159Z",
     "shell.execute_reply": "2024-12-04T15:57:37.231228Z"
    },
    "jupyter": {
     "outputs_hidden": false
    },
    "papermill": {
     "duration": 7.49144,
     "end_time": "2024-12-04T15:57:37.234410",
     "exception": false,
     "start_time": "2024-12-04T15:57:29.742970",
     "status": "completed"
    },
    "tags": []
   },
   "outputs": [],
   "source": [
    "# train\n",
    "y_pred = model.predict(X) # Predict\n",
    "# test\n",
    "y_test_pred = model.predict(X_test) # X_test has not been seen in the model before"
   ]
  },
  {
   "cell_type": "code",
   "execution_count": 18,
   "id": "83a943e7",
   "metadata": {
    "_cell_guid": "c7146926-5ba4-4bf7-8535-eb464dab232d",
    "_uuid": "1d21fd9c-03b7-4e10-953a-f437738adf48",
    "collapsed": false,
    "execution": {
     "iopub.execute_input": "2024-12-04T15:57:37.251671Z",
     "iopub.status.busy": "2024-12-04T15:57:37.251360Z",
     "iopub.status.idle": "2024-12-04T15:57:37.333250Z",
     "shell.execute_reply": "2024-12-04T15:57:37.332261Z"
    },
    "jupyter": {
     "outputs_hidden": false
    },
    "papermill": {
     "duration": 0.092742,
     "end_time": "2024-12-04T15:57:37.335278",
     "exception": false,
     "start_time": "2024-12-04T15:57:37.242536",
     "status": "completed"
    },
    "tags": []
   },
   "outputs": [
    {
     "name": "stdout",
     "output_type": "stream",
     "text": [
      "training accuracy: 0.39\n",
      "testing accuracy: 0.39\n"
     ]
    }
   ],
   "source": [
    "## accuracy\n",
    "from sklearn.metrics import accuracy_score\n",
    "\n",
    "acc_train = accuracy_score(y_true=y, y_pred=y_pred) # since x_train has been seen in the training process\n",
    "acc_test = accuracy_score(y_true=y_test, y_pred=y_test_pred)\n",
    "\n",
    "print('training accuracy: {}'.format(round(acc_train, 2))) \n",
    "print('testing accuracy: {}'.format(round(acc_test, 2)))"
   ]
  },
  {
   "cell_type": "markdown",
   "id": "d8176d8b",
   "metadata": {
    "_cell_guid": "18388020-30e4-4a7a-8ff2-70aa0b08b93d",
    "_uuid": "c459c037-8030-4474-bde1-be24e57d296b",
    "collapsed": false,
    "jupyter": {
     "outputs_hidden": false
    },
    "papermill": {
     "duration": 0.007531,
     "end_time": "2024-12-04T15:57:37.350737",
     "exception": false,
     "start_time": "2024-12-04T15:57:37.343206",
     "status": "completed"
    },
    "tags": []
   },
   "source": [
    "# Deal with test data"
   ]
  },
  {
   "cell_type": "markdown",
   "id": "a78ebdc8",
   "metadata": {
    "papermill": {
     "duration": 0.007813,
     "end_time": "2024-12-04T15:57:37.366594",
     "exception": false,
     "start_time": "2024-12-04T15:57:37.358781",
     "status": "completed"
    },
    "tags": []
   },
   "source": [
    "### Convert test data into the form that same as train data."
   ]
  },
  {
   "cell_type": "code",
   "execution_count": 19,
   "id": "c8070550",
   "metadata": {
    "_cell_guid": "1d567e2c-dc17-4229-9b6b-01fbe4e2189c",
    "_uuid": "f0f83c94-2b60-4fea-9458-7b4122200281",
    "collapsed": false,
    "execution": {
     "iopub.execute_input": "2024-12-04T15:57:37.383734Z",
     "iopub.status.busy": "2024-12-04T15:57:37.383324Z",
     "iopub.status.idle": "2024-12-04T15:57:37.574630Z",
     "shell.execute_reply": "2024-12-04T15:57:37.573798Z"
    },
    "jupyter": {
     "outputs_hidden": false
    },
    "papermill": {
     "duration": 0.202578,
     "end_time": "2024-12-04T15:57:37.576809",
     "exception": false,
     "start_time": "2024-12-04T15:57:37.374231",
     "status": "completed"
    },
    "tags": []
   },
   "outputs": [],
   "source": [
    "test_data = df[df['identification'] == 'test'] # Get the test data from df"
   ]
  },
  {
   "cell_type": "code",
   "execution_count": 20,
   "id": "dfedcf14",
   "metadata": {
    "_cell_guid": "73ed8768-8b5c-4bb9-9c86-4f374bb1e530",
    "_uuid": "a48cff73-74c7-456b-9f91-517bab107e8e",
    "collapsed": false,
    "execution": {
     "iopub.execute_input": "2024-12-04T15:57:37.594193Z",
     "iopub.status.busy": "2024-12-04T15:57:37.593528Z",
     "iopub.status.idle": "2024-12-04T15:57:37.612155Z",
     "shell.execute_reply": "2024-12-04T15:57:37.611159Z"
    },
    "jupyter": {
     "outputs_hidden": false
    },
    "papermill": {
     "duration": 0.029573,
     "end_time": "2024-12-04T15:57:37.614404",
     "exception": false,
     "start_time": "2024-12-04T15:57:37.584831",
     "status": "completed"
    },
    "tags": []
   },
   "outputs": [],
   "source": [
    "# Do the same thing as training stage, but here we don't have emotions feature.\n",
    "X_test_data = test_data.drop(['tweet_id', 'identification'], axis=1)"
   ]
  },
  {
   "cell_type": "code",
   "execution_count": 21,
   "id": "8ace3251",
   "metadata": {
    "execution": {
     "iopub.execute_input": "2024-12-04T15:57:37.631836Z",
     "iopub.status.busy": "2024-12-04T15:57:37.631516Z",
     "iopub.status.idle": "2024-12-04T15:57:37.641538Z",
     "shell.execute_reply": "2024-12-04T15:57:37.640545Z"
    },
    "papermill": {
     "duration": 0.020767,
     "end_time": "2024-12-04T15:57:37.643265",
     "exception": false,
     "start_time": "2024-12-04T15:57:37.622498",
     "status": "completed"
    },
    "tags": []
   },
   "outputs": [
    {
     "data": {
      "text/html": [
       "<div>\n",
       "<style scoped>\n",
       "    .dataframe tbody tr th:only-of-type {\n",
       "        vertical-align: middle;\n",
       "    }\n",
       "\n",
       "    .dataframe tbody tr th {\n",
       "        vertical-align: top;\n",
       "    }\n",
       "\n",
       "    .dataframe thead th {\n",
       "        text-align: right;\n",
       "    }\n",
       "</style>\n",
       "<table border=\"1\" class=\"dataframe\">\n",
       "  <thead>\n",
       "    <tr style=\"text-align: right;\">\n",
       "      <th></th>\n",
       "      <th>text</th>\n",
       "      <th>emotion</th>\n",
       "    </tr>\n",
       "  </thead>\n",
       "  <tbody>\n",
       "    <tr>\n",
       "      <th>2</th>\n",
       "      <td>Confident of your obedience, I write to you, k...</td>\n",
       "      <td>NaN</td>\n",
       "    </tr>\n",
       "    <tr>\n",
       "      <th>4</th>\n",
       "      <td>\"Trust is not the same as faith. A friend is s...</td>\n",
       "      <td>NaN</td>\n",
       "    </tr>\n",
       "    <tr>\n",
       "      <th>9</th>\n",
       "      <td>When do you have enough ? When are you satisfi...</td>\n",
       "      <td>NaN</td>\n",
       "    </tr>\n",
       "    <tr>\n",
       "      <th>30</th>\n",
       "      <td>God woke you up, now chase the day #GodsPlan #...</td>\n",
       "      <td>NaN</td>\n",
       "    </tr>\n",
       "    <tr>\n",
       "      <th>33</th>\n",
       "      <td>In these tough times, who do YOU turn to as yo...</td>\n",
       "      <td>NaN</td>\n",
       "    </tr>\n",
       "    <tr>\n",
       "      <th>...</th>\n",
       "      <td>...</td>\n",
       "      <td>...</td>\n",
       "    </tr>\n",
       "    <tr>\n",
       "      <th>1867525</th>\n",
       "      <td>\"For this is the message that ye heard from th...</td>\n",
       "      <td>NaN</td>\n",
       "    </tr>\n",
       "    <tr>\n",
       "      <th>1867529</th>\n",
       "      <td>\"There is a lad here, which hath five barley l...</td>\n",
       "      <td>NaN</td>\n",
       "    </tr>\n",
       "    <tr>\n",
       "      <th>1867530</th>\n",
       "      <td>When you buy the last 2 tickets remaining for ...</td>\n",
       "      <td>NaN</td>\n",
       "    </tr>\n",
       "    <tr>\n",
       "      <th>1867531</th>\n",
       "      <td>I swear all this hard work gone pay off one da...</td>\n",
       "      <td>NaN</td>\n",
       "    </tr>\n",
       "    <tr>\n",
       "      <th>1867532</th>\n",
       "      <td>@Parcel2Go no card left when I wasn't in so I ...</td>\n",
       "      <td>NaN</td>\n",
       "    </tr>\n",
       "  </tbody>\n",
       "</table>\n",
       "<p>411972 rows × 2 columns</p>\n",
       "</div>"
      ],
      "text/plain": [
       "                                                      text emotion\n",
       "2        Confident of your obedience, I write to you, k...     NaN\n",
       "4        \"Trust is not the same as faith. A friend is s...     NaN\n",
       "9        When do you have enough ? When are you satisfi...     NaN\n",
       "30       God woke you up, now chase the day #GodsPlan #...     NaN\n",
       "33       In these tough times, who do YOU turn to as yo...     NaN\n",
       "...                                                    ...     ...\n",
       "1867525  \"For this is the message that ye heard from th...     NaN\n",
       "1867529  \"There is a lad here, which hath five barley l...     NaN\n",
       "1867530  When you buy the last 2 tickets remaining for ...     NaN\n",
       "1867531  I swear all this hard work gone pay off one da...     NaN\n",
       "1867532  @Parcel2Go no card left when I wasn't in so I ...     NaN\n",
       "\n",
       "[411972 rows x 2 columns]"
      ]
     },
     "execution_count": 21,
     "metadata": {},
     "output_type": "execute_result"
    }
   ],
   "source": [
    "X_test_data"
   ]
  },
  {
   "cell_type": "code",
   "execution_count": 22,
   "id": "985f3d2e",
   "metadata": {
    "_cell_guid": "17f85863-fcc4-4564-ab61-efd8f336ac30",
    "_uuid": "f37af5cb-47db-443b-b6af-c235b2bc9f6d",
    "collapsed": false,
    "execution": {
     "iopub.execute_input": "2024-12-04T15:57:37.661142Z",
     "iopub.status.busy": "2024-12-04T15:57:37.660822Z",
     "iopub.status.idle": "2024-12-04T15:57:48.980657Z",
     "shell.execute_reply": "2024-12-04T15:57:48.979674Z"
    },
    "jupyter": {
     "outputs_hidden": false
    },
    "papermill": {
     "duration": 11.331162,
     "end_time": "2024-12-04T15:57:48.982953",
     "exception": false,
     "start_time": "2024-12-04T15:57:37.651791",
     "status": "completed"
    },
    "tags": []
   },
   "outputs": [],
   "source": [
    "X_test_data = tfidf.transform(X_test_data['text']).toarray() # Convert test data by using same tfidfVectorizer"
   ]
  },
  {
   "cell_type": "code",
   "execution_count": 23,
   "id": "d7481d4f",
   "metadata": {
    "execution": {
     "iopub.execute_input": "2024-12-04T15:57:49.001098Z",
     "iopub.status.busy": "2024-12-04T15:57:49.000656Z",
     "iopub.status.idle": "2024-12-04T15:57:49.008469Z",
     "shell.execute_reply": "2024-12-04T15:57:49.007569Z"
    },
    "papermill": {
     "duration": 0.019738,
     "end_time": "2024-12-04T15:57:49.011117",
     "exception": false,
     "start_time": "2024-12-04T15:57:48.991379",
     "status": "completed"
    },
    "tags": []
   },
   "outputs": [
    {
     "data": {
      "text/plain": [
       "array([[0.        , 0.        , 0.        , ..., 0.17667198, 0.        ,\n",
       "        0.        ],\n",
       "       [0.        , 0.        , 0.        , ..., 0.        , 0.        ,\n",
       "        0.        ],\n",
       "       [0.        , 0.        , 0.        , ..., 0.        , 0.        ,\n",
       "        0.        ],\n",
       "       ...,\n",
       "       [0.        , 0.        , 0.        , ..., 0.        , 0.        ,\n",
       "        0.        ],\n",
       "       [0.        , 0.        , 0.        , ..., 0.        , 0.        ,\n",
       "        0.        ],\n",
       "       [0.        , 0.        , 0.        , ..., 0.        , 0.        ,\n",
       "        0.        ]])"
      ]
     },
     "execution_count": 23,
     "metadata": {},
     "output_type": "execute_result"
    }
   ],
   "source": [
    "X_test_data"
   ]
  },
  {
   "cell_type": "code",
   "execution_count": 24,
   "id": "7d99f5d0",
   "metadata": {
    "_cell_guid": "fcd028a4-172e-4542-b934-287bddadc62d",
    "_uuid": "3309b545-1af4-4fc6-82d6-386f148e9aa6",
    "collapsed": false,
    "execution": {
     "iopub.execute_input": "2024-12-04T15:57:49.033495Z",
     "iopub.status.busy": "2024-12-04T15:57:49.033091Z",
     "iopub.status.idle": "2024-12-04T15:57:51.331728Z",
     "shell.execute_reply": "2024-12-04T15:57:51.330701Z"
    },
    "jupyter": {
     "outputs_hidden": false
    },
    "papermill": {
     "duration": 2.309845,
     "end_time": "2024-12-04T15:57:51.333956",
     "exception": false,
     "start_time": "2024-12-04T15:57:49.024111",
     "status": "completed"
    },
    "tags": []
   },
   "outputs": [],
   "source": [
    "y_test_pred = model.predict(X_test_data)"
   ]
  },
  {
   "cell_type": "code",
   "execution_count": 25,
   "id": "6a0210fb",
   "metadata": {
    "_cell_guid": "2eba1bff-883d-4fe0-867d-684c6f66fbc2",
    "_uuid": "e43ae83f-628e-4aee-bfd9-9ab48890d4b5",
    "collapsed": false,
    "execution": {
     "iopub.execute_input": "2024-12-04T15:57:51.352681Z",
     "iopub.status.busy": "2024-12-04T15:57:51.351851Z",
     "iopub.status.idle": "2024-12-04T15:57:51.372945Z",
     "shell.execute_reply": "2024-12-04T15:57:51.372224Z"
    },
    "jupyter": {
     "outputs_hidden": false
    },
    "papermill": {
     "duration": 0.032509,
     "end_time": "2024-12-04T15:57:51.374998",
     "exception": false,
     "start_time": "2024-12-04T15:57:51.342489",
     "status": "completed"
    },
    "tags": []
   },
   "outputs": [],
   "source": [
    "y_pred_labels = le.inverse_transform(y_test_pred) # Inverse predict labels back to adjective words"
   ]
  },
  {
   "cell_type": "markdown",
   "id": "4e6a0a0d",
   "metadata": {
    "_cell_guid": "515e5b52-c6aa-4e11-95d1-0a617e8969f1",
    "_uuid": "556454d0-f4b9-4565-b422-3538fbede0c6",
    "collapsed": false,
    "jupyter": {
     "outputs_hidden": false
    },
    "papermill": {
     "duration": 0.007652,
     "end_time": "2024-12-04T15:57:51.390869",
     "exception": false,
     "start_time": "2024-12-04T15:57:51.383217",
     "status": "completed"
    },
    "tags": []
   },
   "source": [
    "## Make up submit format"
   ]
  },
  {
   "cell_type": "code",
   "execution_count": 26,
   "id": "f203c45f",
   "metadata": {
    "execution": {
     "iopub.execute_input": "2024-12-04T15:57:51.409140Z",
     "iopub.status.busy": "2024-12-04T15:57:51.408291Z",
     "iopub.status.idle": "2024-12-04T15:57:51.414083Z",
     "shell.execute_reply": "2024-12-04T15:57:51.413252Z"
    },
    "papermill": {
     "duration": 0.016643,
     "end_time": "2024-12-04T15:57:51.415789",
     "exception": false,
     "start_time": "2024-12-04T15:57:51.399146",
     "status": "completed"
    },
    "tags": []
   },
   "outputs": [
    {
     "data": {
      "text/plain": [
       "411972"
      ]
     },
     "execution_count": 26,
     "metadata": {},
     "output_type": "execute_result"
    }
   ],
   "source": [
    "len(test_data['tweet_id'])"
   ]
  },
  {
   "cell_type": "code",
   "execution_count": 27,
   "id": "d725e1af",
   "metadata": {
    "execution": {
     "iopub.execute_input": "2024-12-04T15:57:51.435260Z",
     "iopub.status.busy": "2024-12-04T15:57:51.434451Z",
     "iopub.status.idle": "2024-12-04T15:57:51.440260Z",
     "shell.execute_reply": "2024-12-04T15:57:51.439349Z"
    },
    "papermill": {
     "duration": 0.017806,
     "end_time": "2024-12-04T15:57:51.441900",
     "exception": false,
     "start_time": "2024-12-04T15:57:51.424094",
     "status": "completed"
    },
    "tags": []
   },
   "outputs": [
    {
     "data": {
      "text/plain": [
       "array(['joy', 'joy', 'joy', ..., 'joy', 'joy', 'joy'], dtype=object)"
      ]
     },
     "execution_count": 27,
     "metadata": {},
     "output_type": "execute_result"
    }
   ],
   "source": [
    "y_pred_labels"
   ]
  },
  {
   "cell_type": "code",
   "execution_count": 28,
   "id": "f33e0238",
   "metadata": {
    "_cell_guid": "c831f309-182a-4377-b100-d7e67ce3d6ba",
    "_uuid": "13a14210-bddb-40cf-b0d6-107d1f0af0a8",
    "collapsed": false,
    "execution": {
     "iopub.execute_input": "2024-12-04T15:57:51.460291Z",
     "iopub.status.busy": "2024-12-04T15:57:51.459899Z",
     "iopub.status.idle": "2024-12-04T15:57:51.478920Z",
     "shell.execute_reply": "2024-12-04T15:57:51.478217Z"
    },
    "jupyter": {
     "outputs_hidden": false
    },
    "papermill": {
     "duration": 0.030363,
     "end_time": "2024-12-04T15:57:51.480778",
     "exception": false,
     "start_time": "2024-12-04T15:57:51.450415",
     "status": "completed"
    },
    "tags": []
   },
   "outputs": [],
   "source": [
    "submission = pd.DataFrame({\n",
    "    'id': test_data['tweet_id'],\n",
    "    'emotion': y_pred_labels\n",
    "})\n",
    "\n"
   ]
  },
  {
   "cell_type": "code",
   "execution_count": 29,
   "id": "746c2da3",
   "metadata": {
    "_cell_guid": "5631bd37-f72e-4190-9214-8829f83cad35",
    "_uuid": "c31c854c-fab5-46f4-82ca-eb9e0e641faa",
    "collapsed": false,
    "execution": {
     "iopub.execute_input": "2024-12-04T15:57:51.498100Z",
     "iopub.status.busy": "2024-12-04T15:57:51.497808Z",
     "iopub.status.idle": "2024-12-04T15:57:51.908044Z",
     "shell.execute_reply": "2024-12-04T15:57:51.907048Z"
    },
    "jupyter": {
     "outputs_hidden": false
    },
    "papermill": {
     "duration": 0.421561,
     "end_time": "2024-12-04T15:57:51.910393",
     "exception": false,
     "start_time": "2024-12-04T15:57:51.488832",
     "status": "completed"
    },
    "tags": []
   },
   "outputs": [],
   "source": [
    "submission.to_csv('/kaggle/working/submission.csv', index=False)"
   ]
  }
 ],
 "metadata": {
  "kaggle": {
   "accelerator": "nvidiaTeslaT4",
   "dataSources": [
    {
     "databundleVersionId": 9912598,
     "sourceId": 87232,
     "sourceType": "competition"
    }
   ],
   "dockerImageVersionId": 30787,
   "isGpuEnabled": true,
   "isInternetEnabled": false,
   "language": "python",
   "sourceType": "notebook"
  },
  "kernelspec": {
   "display_name": "Python 3",
   "language": "python",
   "name": "python3"
  },
  "language_info": {
   "codemirror_mode": {
    "name": "ipython",
    "version": 3
   },
   "file_extension": ".py",
   "mimetype": "text/x-python",
   "name": "python",
   "nbconvert_exporter": "python",
   "pygments_lexer": "ipython3",
   "version": "3.10.14"
  },
  "papermill": {
   "default_parameters": {},
   "duration": 212.701652,
   "end_time": "2024-12-04T15:57:56.143100",
   "environment_variables": {},
   "exception": null,
   "input_path": "__notebook__.ipynb",
   "output_path": "__notebook__.ipynb",
   "parameters": {},
   "start_time": "2024-12-04T15:54:23.441448",
   "version": "2.6.0"
  }
 },
 "nbformat": 4,
 "nbformat_minor": 5
}
